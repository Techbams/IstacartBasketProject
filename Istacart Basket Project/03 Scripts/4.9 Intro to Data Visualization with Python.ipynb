{
 "cells": [
  {
   "cell_type": "markdown",
   "id": "0742ccee-084e-440b-bebb-9b12e2be5513",
   "metadata": {},
   "source": [
    "# Data Visualization with Python"
   ]
  },
  {
   "cell_type": "code",
   "execution_count": null,
   "id": "7ac304f8-30a4-41bb-abdc-18a8b2fb5cb2",
   "metadata": {},
   "outputs": [],
   "source": []
  },
  {
   "cell_type": "markdown",
   "id": "b6631129-1bc3-47db-b216-b765b25c6c1f",
   "metadata": {},
   "source": [
    "# Table of Content\n",
    "## 01. Import libraries\n",
    "## 02. Import dataframe\n",
    "## 03. Creating Bar Charts\n",
    "## 03. Exporting Charts"
   ]
  },
  {
   "cell_type": "code",
   "execution_count": null,
   "id": "79f318e3-8a59-4747-954d-0215ce92a6c1",
   "metadata": {},
   "outputs": [],
   "source": []
  },
  {
   "cell_type": "markdown",
   "id": "498481ff-2b64-49b5-b65e-b7ad438e5bca",
   "metadata": {},
   "source": [
    "visualization libraries are\n",
    "- seaborn\n",
    "- matplotlib\n",
    "- scipy"
   ]
  },
  {
   "cell_type": "code",
   "execution_count": 39,
   "id": "575e722b-16e7-4ab7-8192-b66b668767c3",
   "metadata": {},
   "outputs": [],
   "source": [
    "# conda install seaborn"
   ]
  },
  {
   "cell_type": "markdown",
   "id": "47ec743e-e309-4a3f-a42f-7090df052d25",
   "metadata": {},
   "source": [
    "## 01. Import libraries"
   ]
  },
  {
   "cell_type": "code",
   "execution_count": 168,
   "id": "0f6165c7-f7b3-4965-8329-1bdf564681bb",
   "metadata": {},
   "outputs": [],
   "source": [
    "import pandas as pd\n",
    "import numpy as np\n",
    "import os\n",
    "import matplotlib.pyplot as plt\n",
    "import seaborn as sns\n",
    "import scipy"
   ]
  },
  {
   "cell_type": "code",
   "execution_count": null,
   "id": "10830e05-b869-420f-94f1-5429aa44dced",
   "metadata": {},
   "outputs": [],
   "source": []
  },
  {
   "cell_type": "markdown",
   "id": "7729558f-2a45-4559-ae9f-5f29ab356f38",
   "metadata": {},
   "source": [
    "## 02. Import dataframe"
   ]
  },
  {
   "cell_type": "code",
   "execution_count": 43,
   "id": "80992030-383d-490a-8af1-eaf07ac46a8a",
   "metadata": {},
   "outputs": [],
   "source": [
    "# create a string folderpath\n",
    "folderpath = r'C:\\Users\\Bamidele\\Desktop\\Training_content\\March 2025 - Data Analytics Cohort\\Python\\Istacart Basket Project'"
   ]
  },
  {
   "cell_type": "code",
   "execution_count": 44,
   "id": "43c98341-7472-4156-9d5e-e9cb0fac018d",
   "metadata": {},
   "outputs": [],
   "source": [
    "# importing merged dataframe  using the folder os.path.join\n",
    "ords_prods_merge = pd.read_pickle(os.path.join(folderpath, '02 Data', 'Prepared Data', 'ords_prods_merged.pkl'))"
   ]
  },
  {
   "cell_type": "code",
   "execution_count": 45,
   "id": "97e3d7f8-2cde-421e-997c-50894023307d",
   "metadata": {},
   "outputs": [
    {
     "data": {
      "text/html": [
       "<div>\n",
       "<style scoped>\n",
       "    .dataframe tbody tr th:only-of-type {\n",
       "        vertical-align: middle;\n",
       "    }\n",
       "\n",
       "    .dataframe tbody tr th {\n",
       "        vertical-align: top;\n",
       "    }\n",
       "\n",
       "    .dataframe thead th {\n",
       "        text-align: right;\n",
       "    }\n",
       "</style>\n",
       "<table border=\"1\" class=\"dataframe\">\n",
       "  <thead>\n",
       "    <tr style=\"text-align: right;\">\n",
       "      <th></th>\n",
       "      <th>order_id</th>\n",
       "      <th>user_id</th>\n",
       "      <th>eval_set</th>\n",
       "      <th>order_number</th>\n",
       "      <th>order_dow</th>\n",
       "      <th>order_hour_of_day</th>\n",
       "      <th>days_since_prior_order</th>\n",
       "      <th>product_id</th>\n",
       "      <th>add_to_cart_order</th>\n",
       "      <th>reordered</th>\n",
       "      <th>product_name</th>\n",
       "      <th>aisle_id</th>\n",
       "      <th>department_id</th>\n",
       "      <th>prices</th>\n",
       "      <th>price_range_loc</th>\n",
       "      <th>busiest_day</th>\n",
       "      <th>busiest_period_of_day</th>\n",
       "    </tr>\n",
       "  </thead>\n",
       "  <tbody>\n",
       "    <tr>\n",
       "      <th>0</th>\n",
       "      <td>1107.0</td>\n",
       "      <td>38259.0</td>\n",
       "      <td>prior</td>\n",
       "      <td>2.0</td>\n",
       "      <td>1.0</td>\n",
       "      <td>11.0</td>\n",
       "      <td>7.0</td>\n",
       "      <td>1.0</td>\n",
       "      <td>7.0</td>\n",
       "      <td>0.0</td>\n",
       "      <td>Chocolate Sandwich Cookies</td>\n",
       "      <td>61.0</td>\n",
       "      <td>19.0</td>\n",
       "      <td>5.8</td>\n",
       "      <td>Mid-range product</td>\n",
       "      <td>Regularly busy</td>\n",
       "      <td>Most orders</td>\n",
       "    </tr>\n",
       "    <tr>\n",
       "      <th>1</th>\n",
       "      <td>5319.0</td>\n",
       "      <td>196224.0</td>\n",
       "      <td>prior</td>\n",
       "      <td>65.0</td>\n",
       "      <td>1.0</td>\n",
       "      <td>14.0</td>\n",
       "      <td>1.0</td>\n",
       "      <td>1.0</td>\n",
       "      <td>3.0</td>\n",
       "      <td>1.0</td>\n",
       "      <td>Chocolate Sandwich Cookies</td>\n",
       "      <td>61.0</td>\n",
       "      <td>19.0</td>\n",
       "      <td>5.8</td>\n",
       "      <td>Mid-range product</td>\n",
       "      <td>Regularly busy</td>\n",
       "      <td>Most orders</td>\n",
       "    </tr>\n",
       "    <tr>\n",
       "      <th>2</th>\n",
       "      <td>7540.0</td>\n",
       "      <td>138499.0</td>\n",
       "      <td>prior</td>\n",
       "      <td>8.0</td>\n",
       "      <td>0.0</td>\n",
       "      <td>14.0</td>\n",
       "      <td>7.0</td>\n",
       "      <td>1.0</td>\n",
       "      <td>4.0</td>\n",
       "      <td>1.0</td>\n",
       "      <td>Chocolate Sandwich Cookies</td>\n",
       "      <td>61.0</td>\n",
       "      <td>19.0</td>\n",
       "      <td>5.8</td>\n",
       "      <td>Mid-range product</td>\n",
       "      <td>Busiest day</td>\n",
       "      <td>Most orders</td>\n",
       "    </tr>\n",
       "    <tr>\n",
       "      <th>3</th>\n",
       "      <td>9228.0</td>\n",
       "      <td>79603.0</td>\n",
       "      <td>prior</td>\n",
       "      <td>2.0</td>\n",
       "      <td>2.0</td>\n",
       "      <td>10.0</td>\n",
       "      <td>30.0</td>\n",
       "      <td>1.0</td>\n",
       "      <td>2.0</td>\n",
       "      <td>0.0</td>\n",
       "      <td>Chocolate Sandwich Cookies</td>\n",
       "      <td>61.0</td>\n",
       "      <td>19.0</td>\n",
       "      <td>5.8</td>\n",
       "      <td>Mid-range product</td>\n",
       "      <td>Regularly busy</td>\n",
       "      <td>Most orders</td>\n",
       "    </tr>\n",
       "    <tr>\n",
       "      <th>4</th>\n",
       "      <td>9273.0</td>\n",
       "      <td>50005.0</td>\n",
       "      <td>prior</td>\n",
       "      <td>1.0</td>\n",
       "      <td>1.0</td>\n",
       "      <td>15.0</td>\n",
       "      <td>7.0</td>\n",
       "      <td>1.0</td>\n",
       "      <td>30.0</td>\n",
       "      <td>0.0</td>\n",
       "      <td>Chocolate Sandwich Cookies</td>\n",
       "      <td>61.0</td>\n",
       "      <td>19.0</td>\n",
       "      <td>5.8</td>\n",
       "      <td>Mid-range product</td>\n",
       "      <td>Regularly busy</td>\n",
       "      <td>Most orders</td>\n",
       "    </tr>\n",
       "  </tbody>\n",
       "</table>\n",
       "</div>"
      ],
      "text/plain": [
       "   order_id   user_id eval_set  order_number  order_dow  order_hour_of_day  \\\n",
       "0    1107.0   38259.0    prior           2.0        1.0               11.0   \n",
       "1    5319.0  196224.0    prior          65.0        1.0               14.0   \n",
       "2    7540.0  138499.0    prior           8.0        0.0               14.0   \n",
       "3    9228.0   79603.0    prior           2.0        2.0               10.0   \n",
       "4    9273.0   50005.0    prior           1.0        1.0               15.0   \n",
       "\n",
       "   days_since_prior_order  product_id  add_to_cart_order  reordered  \\\n",
       "0                     7.0         1.0                7.0        0.0   \n",
       "1                     1.0         1.0                3.0        1.0   \n",
       "2                     7.0         1.0                4.0        1.0   \n",
       "3                    30.0         1.0                2.0        0.0   \n",
       "4                     7.0         1.0               30.0        0.0   \n",
       "\n",
       "                 product_name  aisle_id  department_id  prices  \\\n",
       "0  Chocolate Sandwich Cookies      61.0           19.0     5.8   \n",
       "1  Chocolate Sandwich Cookies      61.0           19.0     5.8   \n",
       "2  Chocolate Sandwich Cookies      61.0           19.0     5.8   \n",
       "3  Chocolate Sandwich Cookies      61.0           19.0     5.8   \n",
       "4  Chocolate Sandwich Cookies      61.0           19.0     5.8   \n",
       "\n",
       "     price_range_loc     busiest_day busiest_period_of_day  \n",
       "0  Mid-range product  Regularly busy           Most orders  \n",
       "1  Mid-range product  Regularly busy           Most orders  \n",
       "2  Mid-range product     Busiest day           Most orders  \n",
       "3  Mid-range product  Regularly busy           Most orders  \n",
       "4  Mid-range product  Regularly busy           Most orders  "
      ]
     },
     "execution_count": 45,
     "metadata": {},
     "output_type": "execute_result"
    }
   ],
   "source": [
    "ords_prods_merge.head()"
   ]
  },
  {
   "cell_type": "code",
   "execution_count": null,
   "id": "00197311-73cd-467d-8602-72c890f35ce4",
   "metadata": {},
   "outputs": [],
   "source": []
  },
  {
   "cell_type": "markdown",
   "id": "3f386c44-1216-466c-9769-b4a4be1d1324",
   "metadata": {},
   "source": [
    "## 03. Creating Bar Charts"
   ]
  },
  {
   "cell_type": "code",
   "execution_count": 47,
   "id": "84f5bbc2-8e5a-4296-8cc1-5280c678f134",
   "metadata": {},
   "outputs": [
    {
     "data": {
      "text/plain": [
       "<Axes: xlabel='order_dow'>"
      ]
     },
     "execution_count": 47,
     "metadata": {},
     "output_type": "execute_result"
    },
    {
     "data": {
      "image/png": "[encoded data removed]",
      "text/plain": [
       "<Figure size 640x480 with 1 Axes>"
      ]
     },
     "metadata": {},
     "output_type": "display_data"
    }
   ],
   "source": [
    "# Creating Bar Charts\n",
    "ords_prods_merge['order_dow'].value_counts().plot.bar()"
   ]
  },
  {
   "cell_type": "code",
   "execution_count": null,
   "id": "78a1d260-d019-412a-af3d-c99eb0955328",
   "metadata": {},
   "outputs": [],
   "source": []
  },
  {
   "cell_type": "code",
   "execution_count": 48,
   "id": "70a4a060-19ca-4f2f-b5c8-2e28aad06b09",
   "metadata": {},
   "outputs": [
    {
     "data": {
      "text/plain": [
       "order_dow\n",
       "0.0    6252941\n",
       "1.0    5696724\n",
       "6.0    4530304\n",
       "2.0    4243173\n",
       "5.0    4236989\n",
       "3.0    3868747\n",
       "4.0    3812390\n",
       "Name: count, dtype: int64"
      ]
     },
     "execution_count": 48,
     "metadata": {},
     "output_type": "execute_result"
    }
   ],
   "source": [
    "# Creating Bar Charts\n",
    "ords_prods_merge['order_dow'].value_counts()"
   ]
  },
  {
   "cell_type": "code",
   "execution_count": 49,
   "id": "c8aa7f93-bf7a-41be-adec-c1653306be54",
   "metadata": {},
   "outputs": [
    {
     "data": {
      "text/plain": [
       "order_dow\n",
       "0.0    6252941\n",
       "1.0    5696724\n",
       "2.0    4243173\n",
       "3.0    3868747\n",
       "4.0    3812390\n",
       "5.0    4236989\n",
       "6.0    4530304\n",
       "Name: count, dtype: int64"
      ]
     },
     "execution_count": 49,
     "metadata": {},
     "output_type": "execute_result"
    }
   ],
   "source": [
    "ords_prods_merge['order_dow'].value_counts().sort_index()"
   ]
  },
  {
   "cell_type": "code",
   "execution_count": 50,
   "id": "c294824a-29f1-4a9d-b2fd-7bb857e8f39c",
   "metadata": {},
   "outputs": [
    {
     "data": {
      "text/plain": [
       "<Axes: xlabel='order_dow'>"
      ]
     },
     "execution_count": 50,
     "metadata": {},
     "output_type": "execute_result"
    },
    {
     "data": {
      "image/png": "[encoded data removed]",
      "text/plain": [
       "<Figure size 640x480 with 1 Axes>"
      ]
     },
     "metadata": {},
     "output_type": "display_data"
    }
   ],
   "source": [
    "ords_prods_merge['order_dow'].value_counts().sort_index().plot.bar()"
   ]
  },
  {
   "cell_type": "code",
   "execution_count": null,
   "id": "a9c15c61-40a9-4817-b0b8-2d9522ea24ed",
   "metadata": {},
   "outputs": [],
   "source": []
  },
  {
   "cell_type": "code",
   "execution_count": 51,
   "id": "d4880fa7-29b5-4ed0-911b-e2f1cc0e1fea",
   "metadata": {},
   "outputs": [
    {
     "data": {
      "text/plain": [
       "<Axes: xlabel='order_dow'>"
      ]
     },
     "execution_count": 51,
     "metadata": {},
     "output_type": "execute_result"
    },
    {
     "data": {
      "image/png": "[encoded data removed]",
      "text/plain": [
       "<Figure size 640x480 with 1 Axes>"
      ]
     },
     "metadata": {},
     "output_type": "display_data"
    }
   ],
   "source": [
    "# Creating Bar Charts with colors\n",
    "ords_prods_merge['order_dow'].value_counts().plot.bar( color = ['purple', 'red', 'green', 'yellow', 'orange', 'pink', 'blue']  )"
   ]
  },
  {
   "cell_type": "code",
   "execution_count": null,
   "id": "f073a6d3-044d-467a-86c7-c86812a4719d",
   "metadata": {},
   "outputs": [],
   "source": []
  },
  {
   "cell_type": "markdown",
   "id": "abf2eb8e-6722-4775-b585-c420fc75ad57",
   "metadata": {},
   "source": [
    "## 03. Exporting Charts"
   ]
  },
  {
   "cell_type": "code",
   "execution_count": 53,
   "id": "d1f073b3-2344-4ef2-bc6e-ed6a334eb2e0",
   "metadata": {},
   "outputs": [
    {
     "data": {
      "image/png": "[encoded data removed]",
      "text/plain": [
       "<Figure size 640x480 with 1 Axes>"
      ]
     },
     "metadata": {},
     "output_type": "display_data"
    }
   ],
   "source": [
    "bar = ords_prods_merge['order_dow'].value_counts().plot.bar( color = ['purple', 'red', 'green', 'yellow', 'orange', 'pink', 'blue']  )"
   ]
  },
  {
   "cell_type": "code",
   "execution_count": 54,
   "id": "fee0f420-41cd-47ce-8d36-734d591cd707",
   "metadata": {},
   "outputs": [],
   "source": [
    "bar.figure.savefig( os.path.join(folderpath, '04 Analysis', 'visualizations', 'bar_orders_dow.png'  )   )"
   ]
  },
  {
   "cell_type": "code",
   "execution_count": null,
   "id": "551b8f89-3390-4d13-b6bf-50efa97a413b",
   "metadata": {},
   "outputs": [],
   "source": []
  },
  {
   "cell_type": "markdown",
   "id": "adb51528-6a44-42d1-b473-7941fdcec5c0",
   "metadata": {},
   "source": [
    "## 04. Creating Histogram and scatter plot"
   ]
  },
  {
   "cell_type": "markdown",
   "id": "63902666-0299-40b2-8eff-388252ce3a81",
   "metadata": {},
   "source": [
    "### Histogram"
   ]
  },
  {
   "cell_type": "code",
   "execution_count": 57,
   "id": "aa28e79b-f211-40f9-8d54-0a1e7fa0851d",
   "metadata": {},
   "outputs": [
    {
     "data": {
      "text/plain": [
       "<Axes: ylabel='Frequency'>"
      ]
     },
     "execution_count": 57,
     "metadata": {},
     "output_type": "execute_result"
    },
    {
     "data": {
      "image/png": "[encoded data removed]",
      "text/plain": [
       "<Figure size 640x480 with 1 Axes>"
      ]
     },
     "metadata": {},
     "output_type": "display_data"
    }
   ],
   "source": [
    "ords_prods_merge['prices'].plot.hist(bins = 20)"
   ]
  },
  {
   "cell_type": "code",
   "execution_count": 58,
   "id": "22fe05e7-e99d-4220-a959-fc1766cea479",
   "metadata": {},
   "outputs": [
    {
     "data": {
      "text/plain": [
       "count    3.240487e+07\n",
       "mean     1.198022e+01\n",
       "std      4.956554e+02\n",
       "min      1.000000e+00\n",
       "25%      4.200000e+00\n",
       "50%      7.400000e+00\n",
       "75%      1.130000e+01\n",
       "max      9.999900e+04\n",
       "Name: prices, dtype: float64"
      ]
     },
     "execution_count": 58,
     "metadata": {},
     "output_type": "execute_result"
    }
   ],
   "source": [
    "ords_prods_merge['prices'].describe()"
   ]
  },
  {
   "cell_type": "code",
   "execution_count": 59,
   "id": "e36c9e29-284d-428c-a512-f3108eca2c8d",
   "metadata": {},
   "outputs": [
    {
     "data": {
      "text/plain": [
       "11.980224398369819"
      ]
     },
     "execution_count": 59,
     "metadata": {},
     "output_type": "execute_result"
    }
   ],
   "source": [
    "ords_prods_merge['prices'].mean()"
   ]
  },
  {
   "cell_type": "code",
   "execution_count": 60,
   "id": "8a96520a-ba0d-4858-b35d-66169c950c0f",
   "metadata": {},
   "outputs": [
    {
     "data": {
      "text/plain": [
       "7.4"
      ]
     },
     "execution_count": 60,
     "metadata": {},
     "output_type": "execute_result"
    }
   ],
   "source": [
    "ords_prods_merge['prices'].median()"
   ]
  },
  {
   "cell_type": "code",
   "execution_count": 61,
   "id": "c04305b3-4ba7-41f9-a3de-8a60bca4b792",
   "metadata": {},
   "outputs": [
    {
     "data": {
      "text/plain": [
       "99999.0"
      ]
     },
     "execution_count": 61,
     "metadata": {},
     "output_type": "execute_result"
    }
   ],
   "source": [
    "ords_prods_merge['prices'].max()"
   ]
  },
  {
   "cell_type": "code",
   "execution_count": null,
   "id": "5d9b0a75-28cf-49d9-83e2-c22a03eb4bb8",
   "metadata": {},
   "outputs": [],
   "source": []
  },
  {
   "cell_type": "code",
   "execution_count": 62,
   "id": "22d73c21-ec05-4f94-bf95-4dbce8833073",
   "metadata": {},
   "outputs": [
    {
     "data": {
      "text/plain": [
       "<Axes: xlabel='prices', ylabel='prices'>"
      ]
     },
     "execution_count": 62,
     "metadata": {},
     "output_type": "execute_result"
    },
    {
     "data": {
      "image/png": "[encoded data removed]",
      "text/plain": [
       "<Figure size 640x480 with 1 Axes>"
      ]
     },
     "metadata": {},
     "output_type": "display_data"
    }
   ],
   "source": [
    "# use scatter plot to see outliers\n",
    "\n",
    "sns.scatterplot(x = 'prices', y = 'prices', data = ords_prods_merge)"
   ]
  },
  {
   "cell_type": "code",
   "execution_count": 63,
   "id": "4280a59b-9a3e-40d7-a56e-b2b13dd07ee0",
   "metadata": {},
   "outputs": [
    {
     "data": {
      "text/html": [
       "<div>\n",
       "<style scoped>\n",
       "    .dataframe tbody tr th:only-of-type {\n",
       "        vertical-align: middle;\n",
       "    }\n",
       "\n",
       "    .dataframe tbody tr th {\n",
       "        vertical-align: top;\n",
       "    }\n",
       "\n",
       "    .dataframe thead th {\n",
       "        text-align: right;\n",
       "    }\n",
       "</style>\n",
       "<table border=\"1\" class=\"dataframe\">\n",
       "  <thead>\n",
       "    <tr style=\"text-align: right;\">\n",
       "      <th></th>\n",
       "      <th>order_id</th>\n",
       "      <th>user_id</th>\n",
       "      <th>eval_set</th>\n",
       "      <th>order_number</th>\n",
       "      <th>order_dow</th>\n",
       "      <th>order_hour_of_day</th>\n",
       "      <th>days_since_prior_order</th>\n",
       "      <th>product_id</th>\n",
       "      <th>add_to_cart_order</th>\n",
       "      <th>reordered</th>\n",
       "      <th>product_name</th>\n",
       "      <th>aisle_id</th>\n",
       "      <th>department_id</th>\n",
       "      <th>prices</th>\n",
       "      <th>price_range_loc</th>\n",
       "      <th>busiest_day</th>\n",
       "      <th>busiest_period_of_day</th>\n",
       "    </tr>\n",
       "  </thead>\n",
       "  <tbody>\n",
       "    <tr>\n",
       "      <th>13130282</th>\n",
       "      <td>43.0</td>\n",
       "      <td>39630.0</td>\n",
       "      <td>prior</td>\n",
       "      <td>14.0</td>\n",
       "      <td>5.0</td>\n",
       "      <td>17.0</td>\n",
       "      <td>4.0</td>\n",
       "      <td>21553.0</td>\n",
       "      <td>6.0</td>\n",
       "      <td>1.0</td>\n",
       "      <td>Lowfat 2% Milkfat Cottage Cheese</td>\n",
       "      <td>108.0</td>\n",
       "      <td>16.0</td>\n",
       "      <td>14900.0</td>\n",
       "      <td>High-range product</td>\n",
       "      <td>Regularly busy</td>\n",
       "      <td>Average orders</td>\n",
       "    </tr>\n",
       "    <tr>\n",
       "      <th>13130283</th>\n",
       "      <td>950.0</td>\n",
       "      <td>187854.0</td>\n",
       "      <td>prior</td>\n",
       "      <td>16.0</td>\n",
       "      <td>1.0</td>\n",
       "      <td>11.0</td>\n",
       "      <td>16.0</td>\n",
       "      <td>21553.0</td>\n",
       "      <td>20.0</td>\n",
       "      <td>0.0</td>\n",
       "      <td>Lowfat 2% Milkfat Cottage Cheese</td>\n",
       "      <td>108.0</td>\n",
       "      <td>16.0</td>\n",
       "      <td>14900.0</td>\n",
       "      <td>High-range product</td>\n",
       "      <td>Regularly busy</td>\n",
       "      <td>Most orders</td>\n",
       "    </tr>\n",
       "    <tr>\n",
       "      <th>13130284</th>\n",
       "      <td>1115.0</td>\n",
       "      <td>168014.0</td>\n",
       "      <td>prior</td>\n",
       "      <td>15.0</td>\n",
       "      <td>6.0</td>\n",
       "      <td>14.0</td>\n",
       "      <td>30.0</td>\n",
       "      <td>21553.0</td>\n",
       "      <td>14.0</td>\n",
       "      <td>1.0</td>\n",
       "      <td>Lowfat 2% Milkfat Cottage Cheese</td>\n",
       "      <td>108.0</td>\n",
       "      <td>16.0</td>\n",
       "      <td>14900.0</td>\n",
       "      <td>High-range product</td>\n",
       "      <td>Regularly busy</td>\n",
       "      <td>Most orders</td>\n",
       "    </tr>\n",
       "    <tr>\n",
       "      <th>13130285</th>\n",
       "      <td>1155.0</td>\n",
       "      <td>103747.0</td>\n",
       "      <td>prior</td>\n",
       "      <td>22.0</td>\n",
       "      <td>1.0</td>\n",
       "      <td>13.0</td>\n",
       "      <td>12.0</td>\n",
       "      <td>21553.0</td>\n",
       "      <td>18.0</td>\n",
       "      <td>1.0</td>\n",
       "      <td>Lowfat 2% Milkfat Cottage Cheese</td>\n",
       "      <td>108.0</td>\n",
       "      <td>16.0</td>\n",
       "      <td>14900.0</td>\n",
       "      <td>High-range product</td>\n",
       "      <td>Regularly busy</td>\n",
       "      <td>Most orders</td>\n",
       "    </tr>\n",
       "    <tr>\n",
       "      <th>13130286</th>\n",
       "      <td>1220.0</td>\n",
       "      <td>23475.0</td>\n",
       "      <td>prior</td>\n",
       "      <td>3.0</td>\n",
       "      <td>0.0</td>\n",
       "      <td>17.0</td>\n",
       "      <td>26.0</td>\n",
       "      <td>21553.0</td>\n",
       "      <td>19.0</td>\n",
       "      <td>0.0</td>\n",
       "      <td>Lowfat 2% Milkfat Cottage Cheese</td>\n",
       "      <td>108.0</td>\n",
       "      <td>16.0</td>\n",
       "      <td>14900.0</td>\n",
       "      <td>High-range product</td>\n",
       "      <td>Busiest day</td>\n",
       "      <td>Average orders</td>\n",
       "    </tr>\n",
       "    <tr>\n",
       "      <th>...</th>\n",
       "      <td>...</td>\n",
       "      <td>...</td>\n",
       "      <td>...</td>\n",
       "      <td>...</td>\n",
       "      <td>...</td>\n",
       "      <td>...</td>\n",
       "      <td>...</td>\n",
       "      <td>...</td>\n",
       "      <td>...</td>\n",
       "      <td>...</td>\n",
       "      <td>...</td>\n",
       "      <td>...</td>\n",
       "      <td>...</td>\n",
       "      <td>...</td>\n",
       "      <td>...</td>\n",
       "      <td>...</td>\n",
       "      <td>...</td>\n",
       "    </tr>\n",
       "    <tr>\n",
       "      <th>21817064</th>\n",
       "      <td>3407607.0</td>\n",
       "      <td>14872.0</td>\n",
       "      <td>prior</td>\n",
       "      <td>17.0</td>\n",
       "      <td>4.0</td>\n",
       "      <td>21.0</td>\n",
       "      <td>13.0</td>\n",
       "      <td>33664.0</td>\n",
       "      <td>9.0</td>\n",
       "      <td>1.0</td>\n",
       "      <td>2 % Reduced Fat  Milk</td>\n",
       "      <td>84.0</td>\n",
       "      <td>16.0</td>\n",
       "      <td>99999.0</td>\n",
       "      <td>High-range product</td>\n",
       "      <td>Least Busy</td>\n",
       "      <td>Average orders</td>\n",
       "    </tr>\n",
       "    <tr>\n",
       "      <th>21817065</th>\n",
       "      <td>3409400.0</td>\n",
       "      <td>70851.0</td>\n",
       "      <td>prior</td>\n",
       "      <td>10.0</td>\n",
       "      <td>5.0</td>\n",
       "      <td>9.0</td>\n",
       "      <td>5.0</td>\n",
       "      <td>33664.0</td>\n",
       "      <td>1.0</td>\n",
       "      <td>1.0</td>\n",
       "      <td>2 % Reduced Fat  Milk</td>\n",
       "      <td>84.0</td>\n",
       "      <td>16.0</td>\n",
       "      <td>99999.0</td>\n",
       "      <td>High-range product</td>\n",
       "      <td>Regularly busy</td>\n",
       "      <td>Average orders</td>\n",
       "    </tr>\n",
       "    <tr>\n",
       "      <th>21817066</th>\n",
       "      <td>3414106.0</td>\n",
       "      <td>111487.0</td>\n",
       "      <td>prior</td>\n",
       "      <td>25.0</td>\n",
       "      <td>6.0</td>\n",
       "      <td>7.0</td>\n",
       "      <td>9.0</td>\n",
       "      <td>33664.0</td>\n",
       "      <td>5.0</td>\n",
       "      <td>1.0</td>\n",
       "      <td>2 % Reduced Fat  Milk</td>\n",
       "      <td>84.0</td>\n",
       "      <td>16.0</td>\n",
       "      <td>99999.0</td>\n",
       "      <td>High-range product</td>\n",
       "      <td>Regularly busy</td>\n",
       "      <td>Average orders</td>\n",
       "    </tr>\n",
       "    <tr>\n",
       "      <th>21817067</th>\n",
       "      <td>3417702.0</td>\n",
       "      <td>70821.0</td>\n",
       "      <td>prior</td>\n",
       "      <td>5.0</td>\n",
       "      <td>2.0</td>\n",
       "      <td>14.0</td>\n",
       "      <td>18.0</td>\n",
       "      <td>33664.0</td>\n",
       "      <td>13.0</td>\n",
       "      <td>0.0</td>\n",
       "      <td>2 % Reduced Fat  Milk</td>\n",
       "      <td>84.0</td>\n",
       "      <td>16.0</td>\n",
       "      <td>99999.0</td>\n",
       "      <td>High-range product</td>\n",
       "      <td>Regularly busy</td>\n",
       "      <td>Most orders</td>\n",
       "    </tr>\n",
       "    <tr>\n",
       "      <th>21817068</th>\n",
       "      <td>3421047.0</td>\n",
       "      <td>98554.0</td>\n",
       "      <td>prior</td>\n",
       "      <td>4.0</td>\n",
       "      <td>1.0</td>\n",
       "      <td>11.0</td>\n",
       "      <td>4.0</td>\n",
       "      <td>33664.0</td>\n",
       "      <td>6.0</td>\n",
       "      <td>0.0</td>\n",
       "      <td>2 % Reduced Fat  Milk</td>\n",
       "      <td>84.0</td>\n",
       "      <td>16.0</td>\n",
       "      <td>99999.0</td>\n",
       "      <td>High-range product</td>\n",
       "      <td>Regularly busy</td>\n",
       "      <td>Most orders</td>\n",
       "    </tr>\n",
       "  </tbody>\n",
       "</table>\n",
       "<p>5127 rows × 17 columns</p>\n",
       "</div>"
      ],
      "text/plain": [
       "           order_id   user_id eval_set  order_number  order_dow  \\\n",
       "13130282       43.0   39630.0    prior          14.0        5.0   \n",
       "13130283      950.0  187854.0    prior          16.0        1.0   \n",
       "13130284     1115.0  168014.0    prior          15.0        6.0   \n",
       "13130285     1155.0  103747.0    prior          22.0        1.0   \n",
       "13130286     1220.0   23475.0    prior           3.0        0.0   \n",
       "...             ...       ...      ...           ...        ...   \n",
       "21817064  3407607.0   14872.0    prior          17.0        4.0   \n",
       "21817065  3409400.0   70851.0    prior          10.0        5.0   \n",
       "21817066  3414106.0  111487.0    prior          25.0        6.0   \n",
       "21817067  3417702.0   70821.0    prior           5.0        2.0   \n",
       "21817068  3421047.0   98554.0    prior           4.0        1.0   \n",
       "\n",
       "          order_hour_of_day  days_since_prior_order  product_id  \\\n",
       "13130282               17.0                     4.0     21553.0   \n",
       "13130283               11.0                    16.0     21553.0   \n",
       "13130284               14.0                    30.0     21553.0   \n",
       "13130285               13.0                    12.0     21553.0   \n",
       "13130286               17.0                    26.0     21553.0   \n",
       "...                     ...                     ...         ...   \n",
       "21817064               21.0                    13.0     33664.0   \n",
       "21817065                9.0                     5.0     33664.0   \n",
       "21817066                7.0                     9.0     33664.0   \n",
       "21817067               14.0                    18.0     33664.0   \n",
       "21817068               11.0                     4.0     33664.0   \n",
       "\n",
       "          add_to_cart_order  reordered                      product_name  \\\n",
       "13130282                6.0        1.0  Lowfat 2% Milkfat Cottage Cheese   \n",
       "13130283               20.0        0.0  Lowfat 2% Milkfat Cottage Cheese   \n",
       "13130284               14.0        1.0  Lowfat 2% Milkfat Cottage Cheese   \n",
       "13130285               18.0        1.0  Lowfat 2% Milkfat Cottage Cheese   \n",
       "13130286               19.0        0.0  Lowfat 2% Milkfat Cottage Cheese   \n",
       "...                     ...        ...                               ...   \n",
       "21817064                9.0        1.0             2 % Reduced Fat  Milk   \n",
       "21817065                1.0        1.0             2 % Reduced Fat  Milk   \n",
       "21817066                5.0        1.0             2 % Reduced Fat  Milk   \n",
       "21817067               13.0        0.0             2 % Reduced Fat  Milk   \n",
       "21817068                6.0        0.0             2 % Reduced Fat  Milk   \n",
       "\n",
       "          aisle_id  department_id   prices     price_range_loc  \\\n",
       "13130282     108.0           16.0  14900.0  High-range product   \n",
       "13130283     108.0           16.0  14900.0  High-range product   \n",
       "13130284     108.0           16.0  14900.0  High-range product   \n",
       "13130285     108.0           16.0  14900.0  High-range product   \n",
       "13130286     108.0           16.0  14900.0  High-range product   \n",
       "...            ...            ...      ...                 ...   \n",
       "21817064      84.0           16.0  99999.0  High-range product   \n",
       "21817065      84.0           16.0  99999.0  High-range product   \n",
       "21817066      84.0           16.0  99999.0  High-range product   \n",
       "21817067      84.0           16.0  99999.0  High-range product   \n",
       "21817068      84.0           16.0  99999.0  High-range product   \n",
       "\n",
       "             busiest_day busiest_period_of_day  \n",
       "13130282  Regularly busy        Average orders  \n",
       "13130283  Regularly busy           Most orders  \n",
       "13130284  Regularly busy           Most orders  \n",
       "13130285  Regularly busy           Most orders  \n",
       "13130286     Busiest day        Average orders  \n",
       "...                  ...                   ...  \n",
       "21817064      Least Busy        Average orders  \n",
       "21817065  Regularly busy        Average orders  \n",
       "21817066  Regularly busy        Average orders  \n",
       "21817067  Regularly busy           Most orders  \n",
       "21817068  Regularly busy           Most orders  \n",
       "\n",
       "[5127 rows x 17 columns]"
      ]
     },
     "execution_count": 63,
     "metadata": {},
     "output_type": "execute_result"
    }
   ],
   "source": [
    "# confirm if there are prices greater than $100\n",
    "ords_prods_merge.loc[ ords_prods_merge['prices'] > 100  ]"
   ]
  },
  {
   "cell_type": "code",
   "execution_count": 64,
   "id": "82d1bda4-5996-432e-a878-68f6a81327cd",
   "metadata": {},
   "outputs": [],
   "source": [
    "# confirm if there are prices greater than $100\n",
    "ords_prods_merge.loc[ ords_prods_merge['prices'] > 100, 'prices'  ] = np.nan"
   ]
  },
  {
   "cell_type": "code",
   "execution_count": 106,
   "id": "6a7acc07-68e6-435b-8f81-2457401da2ee",
   "metadata": {},
   "outputs": [
    {
     "data": {
      "text/plain": [
       "25.0"
      ]
     },
     "execution_count": 106,
     "metadata": {},
     "output_type": "execute_result"
    }
   ],
   "source": [
    "# Confirm the max() of the new dataframe\n",
    "ords_prods_merge['prices'].max()"
   ]
  },
  {
   "cell_type": "markdown",
   "id": "af654777-080c-4148-a015-ba7350073eb8",
   "metadata": {},
   "source": [
    "- All **outliers** have now been replaced with missing values, Hence, max value is a much more realistic price point of **25** currently.\n",
    "- Perfect. Logically, a 25 dollar  grocery item is much more likely than a 14,900 item (and especially a 99,999 dollar item!)."
   ]
  },
  {
   "cell_type": "code",
   "execution_count": 120,
   "id": "2c3148c5-b887-4e55-b833-7c73ce6a8ee0",
   "metadata": {},
   "outputs": [
    {
     "data": {
      "image/png": "[encoded data removed]",
      "text/plain": [
       "<Figure size 640x480 with 1 Axes>"
      ]
     },
     "metadata": {},
     "output_type": "display_data"
    }
   ],
   "source": [
    "# We can rerun the histogram viz now that data has been cleaned\n",
    "hist = ords_prods_merge['prices'].plot.hist(bins = 25)"
   ]
  },
  {
   "cell_type": "markdown",
   "id": "20f985c7-596b-440f-8b0f-ea44b4497d77",
   "metadata": {},
   "source": [
    "- Most products are between 1 dollar and 15 dollar, while a few are higher priced at 15 dollar to 25 dolar. "
   ]
  },
  {
   "cell_type": "code",
   "execution_count": null,
   "id": "b016f319-3bba-4d22-bea3-9eacbafbbda3",
   "metadata": {},
   "outputs": [],
   "source": []
  },
  {
   "cell_type": "code",
   "execution_count": 122,
   "id": "2bc4780c-1a23-47ae-8453-b838b96f426a",
   "metadata": {},
   "outputs": [
    {
     "data": {
      "image/png": "[encoded data removed]",
      "text/plain": [
       "<Figure size 640x480 with 1 Axes>"
      ]
     },
     "metadata": {},
     "output_type": "display_data"
    }
   ],
   "source": [
    "# To increase the level of granularity in the histogram, simply increase the number of bins to, say, 70\n",
    "hist_2 = ords_prods_merge['prices'].plot.hist(bins = 70)"
   ]
  },
  {
   "cell_type": "code",
   "execution_count": null,
   "id": "33195a0c-4c6a-4764-96df-bc4f8d35216e",
   "metadata": {},
   "outputs": [],
   "source": []
  },
  {
   "cell_type": "code",
   "execution_count": 126,
   "id": "13c2590a-2906-467b-a52f-cf2a4d17b292",
   "metadata": {},
   "outputs": [],
   "source": [
    "#Exporting the two histogram images\n",
    "hist.figure.savefig(os.path.join (folderpath, '04 Analysis', 'Visualizations', 'hist.png')   )\n",
    "hist_2.figure.savefig(os.path.join (folderpath, '04 Analysis', 'Visualizations', 'hist_70bin.png')   )"
   ]
  },
  {
   "cell_type": "code",
   "execution_count": null,
   "id": "f560e0f8-70f4-4dc5-96df-35c99692bc02",
   "metadata": {},
   "outputs": [],
   "source": []
  },
  {
   "cell_type": "code",
   "execution_count": null,
   "id": "58d374bb-8f32-4a89-ab2f-1a45fa626cdf",
   "metadata": {},
   "outputs": [],
   "source": []
  },
  {
   "cell_type": "markdown",
   "id": "4a12eefa-a642-4410-8e27-4aeae1a17673",
   "metadata": {},
   "source": [
    "### Simple charts Type"
   ]
  },
  {
   "cell_type": "code",
   "execution_count": 173,
   "id": "06d93e5e-eaa6-4d66-b3d0-e51dfc58abe2",
   "metadata": {},
   "outputs": [],
   "source": [
    "# create a list of X and Y for a simple line chart\n",
    "x = [1, 2, 3, 4,5]\n",
    "y = [10, 12, 8, 18, 9]"
   ]
  },
  {
   "cell_type": "code",
   "execution_count": 175,
   "id": "c9130be2-a4cc-4932-8a7c-cfcc8424261b",
   "metadata": {},
   "outputs": [
    {
     "data": {
      "image/png": "[encoded data removed]",
      "text/plain": [
       "<Figure size 640x480 with 1 Axes>"
      ]
     },
     "metadata": {},
     "output_type": "display_data"
    }
   ],
   "source": [
    "plt.plot(x, y)\n",
    "plt.title('Simple line Chart')\n",
    "plt.xlabel('x variable')\n",
    "plt.ylabel('y value')\n",
    "plt.show()"
   ]
  },
  {
   "cell_type": "code",
   "execution_count": null,
   "id": "c39b196a-c82b-4c8f-9d48-2a56cc977aee",
   "metadata": {},
   "outputs": [],
   "source": []
  },
  {
   "cell_type": "code",
   "execution_count": 184,
   "id": "699961b1-7668-40b6-9626-c8b4aea94dd5",
   "metadata": {},
   "outputs": [],
   "source": [
    "# Bar chart \n",
    "categories = ['A', 'B', 'C', 'D']\n",
    "prices = [23, 45, 56, 78]"
   ]
  },
  {
   "cell_type": "code",
   "execution_count": 190,
   "id": "e20fde82-1de6-4bc4-a30c-1da860af65be",
   "metadata": {},
   "outputs": [
    {
     "data": {
      "image/png": "[encoded data removed]",
      "text/plain": [
       "<Figure size 640x480 with 1 Axes>"
      ]
     },
     "metadata": {},
     "output_type": "display_data"
    }
   ],
   "source": [
    "plt.bar(categories, prices, color = 'skyblue')\n",
    "plt.title('simple bar chart')\n",
    "plt.xlabel('Different Categories')\n",
    "plt.ylabel('Prices $')\n",
    "plt.show()"
   ]
  },
  {
   "cell_type": "code",
   "execution_count": null,
   "id": "2ae404fd-f4fc-4f8f-b3c9-2cc71737efad",
   "metadata": {},
   "outputs": [],
   "source": []
  },
  {
   "cell_type": "code",
   "execution_count": null,
   "id": "9bb81945-b290-4ccc-9d8f-fccc0ca64782",
   "metadata": {},
   "outputs": [],
   "source": []
  },
  {
   "cell_type": "code",
   "execution_count": null,
   "id": "00008f9d-74ad-419c-b7e9-2bfbca59b022",
   "metadata": {},
   "outputs": [],
   "source": []
  },
  {
   "cell_type": "code",
   "execution_count": 192,
   "id": "b69b9c8c-7649-4ea4-a7e2-eb9150f5053f",
   "metadata": {},
   "outputs": [],
   "source": [
    "# ords_prods_merge[:1000000] - Not a true representation of the data"
   ]
  },
  {
   "cell_type": "markdown",
   "id": "0d39c75b-4ad8-4e4b-9264-0034ada38b73",
   "metadata": {},
   "source": [
    "## 05. Creating Line Charts"
   ]
  },
  {
   "cell_type": "code",
   "execution_count": null,
   "id": "53db2745-351f-46ed-b9ec-ce0ceeb537a2",
   "metadata": {},
   "outputs": [],
   "source": [
    "# because of data size and CPU, use Sampling data not subsetting"
   ]
  },
  {
   "cell_type": "markdown",
   "id": "c22d692d-8982-4019-8ef0-7dd48879a57d",
   "metadata": {},
   "source": [
    "### Sampling Data"
   ]
  },
  {
   "cell_type": "code",
   "execution_count": null,
   "id": "422577a9-f001-44c6-adef-29e90de4ef9e",
   "metadata": {},
   "outputs": [],
   "source": [
    "# Spliting data into two samples with same distribution (e.g 80/20 or 70/30)"
   ]
  },
  {
   "cell_type": "markdown",
   "id": "ac537f95-d7d9-4fcb-a3ef-1b05275a81d7",
   "metadata": {},
   "source": [
    "This is a standard approach in machine learning. When training a model, you’d normally use 80 percent of a data set to train the algorithm and the remaining 20 percent to check the accuracy of the model."
   ]
  },
  {
   "cell_type": "code",
   "execution_count": null,
   "id": "c1749357-a201-4cbe-95b3-7f86b4a37067",
   "metadata": {},
   "outputs": [],
   "source": []
  },
  {
   "cell_type": "code",
   "execution_count": 196,
   "id": "2b4118b5-936e-4031-98bb-9c80404758c7",
   "metadata": {},
   "outputs": [
    {
     "data": {
      "text/plain": [
       "array([0.96702984, 0.54723225, 0.97268436, 0.71481599, 0.69772882,\n",
       "       0.2160895 ])"
      ]
     },
     "execution_count": 196,
     "metadata": {},
     "output_type": "execute_result"
    }
   ],
   "source": [
    "np.random.rand(6)"
   ]
  },
  {
   "cell_type": "code",
   "execution_count": 198,
   "id": "c9acf801-5d47-43a9-bce1-8d1c38dbc732",
   "metadata": {},
   "outputs": [
    {
     "data": {
      "text/plain": [
       "32641279"
      ]
     },
     "execution_count": 198,
     "metadata": {},
     "output_type": "execute_result"
    }
   ],
   "source": [
    "len(ords_prods_merge)"
   ]
  },
  {
   "cell_type": "code",
   "execution_count": 194,
   "id": "da56332f-2d04-4328-8b55-61c0185f3afd",
   "metadata": {},
   "outputs": [],
   "source": [
    "# creating \n",
    "np.random.seed(4)"
   ]
  },
  {
   "cell_type": "code",
   "execution_count": 200,
   "id": "b8f3ccd4-a47e-40de-a43e-802aab714855",
   "metadata": {},
   "outputs": [],
   "source": [
    "dev = np.random.rand(len(ords_prods_merge) ) <= 0.7"
   ]
  },
  {
   "cell_type": "code",
   "execution_count": 202,
   "id": "d616e9b1-5583-4961-9120-939de790fc59",
   "metadata": {},
   "outputs": [
    {
     "data": {
      "text/plain": [
       "array([False,  True,  True, ..., False, False,  True])"
      ]
     },
     "execution_count": 202,
     "metadata": {},
     "output_type": "execute_result"
    }
   ],
   "source": [
    "dev"
   ]
  },
  {
   "cell_type": "code",
   "execution_count": 206,
   "id": "29fbd763-c4be-41ff-9a47-80e7f5d9d851",
   "metadata": {},
   "outputs": [],
   "source": [
    "# # create big and small subset\n",
    "# # for big\n",
    "big = ords_prods_merge[dev]"
   ]
  },
  {
   "cell_type": "code",
   "execution_count": 140,
   "id": "9d254d92-327d-4007-9976-63601a883489",
   "metadata": {},
   "outputs": [],
   "source": [
    "# create small subset\n",
    "small = ords_prods_merge[~dev]"
   ]
  },
  {
   "cell_type": "code",
   "execution_count": 208,
   "id": "10f6f6c2-af5b-46d7-8c54-c81ef5445012",
   "metadata": {},
   "outputs": [
    {
     "data": {
      "text/plain": [
       "32641279"
      ]
     },
     "execution_count": 208,
     "metadata": {},
     "output_type": "execute_result"
    }
   ],
   "source": [
    "# confirm if the data has been successfully divided\n",
    "len(ords_prods_merge)"
   ]
  },
  {
   "cell_type": "code",
   "execution_count": 210,
   "id": "d95664f0-0d26-48da-843c-42eb94574410",
   "metadata": {},
   "outputs": [
    {
     "data": {
      "text/plain": [
       "32641279"
      ]
     },
     "execution_count": 210,
     "metadata": {},
     "output_type": "execute_result"
    }
   ],
   "source": [
    "len(big) + len(small)"
   ]
  },
  {
   "cell_type": "code",
   "execution_count": 212,
   "id": "2606165e-8a7a-43eb-9136-c733371eaa61",
   "metadata": {},
   "outputs": [
    {
     "data": {
      "text/html": [
       "<div>\n",
       "<style scoped>\n",
       "    .dataframe tbody tr th:only-of-type {\n",
       "        vertical-align: middle;\n",
       "    }\n",
       "\n",
       "    .dataframe tbody tr th {\n",
       "        vertical-align: top;\n",
       "    }\n",
       "\n",
       "    .dataframe thead th {\n",
       "        text-align: right;\n",
       "    }\n",
       "</style>\n",
       "<table border=\"1\" class=\"dataframe\">\n",
       "  <thead>\n",
       "    <tr style=\"text-align: right;\">\n",
       "      <th></th>\n",
       "      <th>order_id</th>\n",
       "      <th>user_id</th>\n",
       "      <th>eval_set</th>\n",
       "      <th>order_number</th>\n",
       "      <th>order_dow</th>\n",
       "      <th>order_hour_of_day</th>\n",
       "      <th>days_since_prior_order</th>\n",
       "      <th>product_id</th>\n",
       "      <th>add_to_cart_order</th>\n",
       "      <th>reordered</th>\n",
       "      <th>product_name</th>\n",
       "      <th>aisle_id</th>\n",
       "      <th>department_id</th>\n",
       "      <th>prices</th>\n",
       "      <th>price_range_loc</th>\n",
       "      <th>busiest_day</th>\n",
       "      <th>busiest_period_of_day</th>\n",
       "    </tr>\n",
       "  </thead>\n",
       "  <tbody>\n",
       "    <tr>\n",
       "      <th>0</th>\n",
       "      <td>1107.0</td>\n",
       "      <td>38259.0</td>\n",
       "      <td>prior</td>\n",
       "      <td>2.0</td>\n",
       "      <td>1.0</td>\n",
       "      <td>11.0</td>\n",
       "      <td>7.0</td>\n",
       "      <td>1.0</td>\n",
       "      <td>7.0</td>\n",
       "      <td>0.0</td>\n",
       "      <td>Chocolate Sandwich Cookies</td>\n",
       "      <td>61.0</td>\n",
       "      <td>19.0</td>\n",
       "      <td>5.8</td>\n",
       "      <td>Mid-range product</td>\n",
       "      <td>Regularly busy</td>\n",
       "      <td>Most orders</td>\n",
       "    </tr>\n",
       "    <tr>\n",
       "      <th>2</th>\n",
       "      <td>7540.0</td>\n",
       "      <td>138499.0</td>\n",
       "      <td>prior</td>\n",
       "      <td>8.0</td>\n",
       "      <td>0.0</td>\n",
       "      <td>14.0</td>\n",
       "      <td>7.0</td>\n",
       "      <td>1.0</td>\n",
       "      <td>4.0</td>\n",
       "      <td>1.0</td>\n",
       "      <td>Chocolate Sandwich Cookies</td>\n",
       "      <td>61.0</td>\n",
       "      <td>19.0</td>\n",
       "      <td>5.8</td>\n",
       "      <td>Mid-range product</td>\n",
       "      <td>Busiest day</td>\n",
       "      <td>Most orders</td>\n",
       "    </tr>\n",
       "    <tr>\n",
       "      <th>3</th>\n",
       "      <td>9228.0</td>\n",
       "      <td>79603.0</td>\n",
       "      <td>prior</td>\n",
       "      <td>2.0</td>\n",
       "      <td>2.0</td>\n",
       "      <td>10.0</td>\n",
       "      <td>30.0</td>\n",
       "      <td>1.0</td>\n",
       "      <td>2.0</td>\n",
       "      <td>0.0</td>\n",
       "      <td>Chocolate Sandwich Cookies</td>\n",
       "      <td>61.0</td>\n",
       "      <td>19.0</td>\n",
       "      <td>5.8</td>\n",
       "      <td>Mid-range product</td>\n",
       "      <td>Regularly busy</td>\n",
       "      <td>Most orders</td>\n",
       "    </tr>\n",
       "    <tr>\n",
       "      <th>6</th>\n",
       "      <td>11140.0</td>\n",
       "      <td>63782.0</td>\n",
       "      <td>prior</td>\n",
       "      <td>4.0</td>\n",
       "      <td>1.0</td>\n",
       "      <td>14.0</td>\n",
       "      <td>14.0</td>\n",
       "      <td>1.0</td>\n",
       "      <td>1.0</td>\n",
       "      <td>1.0</td>\n",
       "      <td>Chocolate Sandwich Cookies</td>\n",
       "      <td>61.0</td>\n",
       "      <td>19.0</td>\n",
       "      <td>5.8</td>\n",
       "      <td>Mid-range product</td>\n",
       "      <td>Regularly busy</td>\n",
       "      <td>Most orders</td>\n",
       "    </tr>\n",
       "    <tr>\n",
       "      <th>10</th>\n",
       "      <td>14668.0</td>\n",
       "      <td>106519.0</td>\n",
       "      <td>prior</td>\n",
       "      <td>18.0</td>\n",
       "      <td>0.0</td>\n",
       "      <td>22.0</td>\n",
       "      <td>7.0</td>\n",
       "      <td>1.0</td>\n",
       "      <td>13.0</td>\n",
       "      <td>1.0</td>\n",
       "      <td>Chocolate Sandwich Cookies</td>\n",
       "      <td>61.0</td>\n",
       "      <td>19.0</td>\n",
       "      <td>5.8</td>\n",
       "      <td>Mid-range product</td>\n",
       "      <td>Busiest day</td>\n",
       "      <td>Average orders</td>\n",
       "    </tr>\n",
       "  </tbody>\n",
       "</table>\n",
       "</div>"
      ],
      "text/plain": [
       "    order_id   user_id eval_set  order_number  order_dow  order_hour_of_day  \\\n",
       "0     1107.0   38259.0    prior           2.0        1.0               11.0   \n",
       "2     7540.0  138499.0    prior           8.0        0.0               14.0   \n",
       "3     9228.0   79603.0    prior           2.0        2.0               10.0   \n",
       "6    11140.0   63782.0    prior           4.0        1.0               14.0   \n",
       "10   14668.0  106519.0    prior          18.0        0.0               22.0   \n",
       "\n",
       "    days_since_prior_order  product_id  add_to_cart_order  reordered  \\\n",
       "0                      7.0         1.0                7.0        0.0   \n",
       "2                      7.0         1.0                4.0        1.0   \n",
       "3                     30.0         1.0                2.0        0.0   \n",
       "6                     14.0         1.0                1.0        1.0   \n",
       "10                     7.0         1.0               13.0        1.0   \n",
       "\n",
       "                  product_name  aisle_id  department_id  prices  \\\n",
       "0   Chocolate Sandwich Cookies      61.0           19.0     5.8   \n",
       "2   Chocolate Sandwich Cookies      61.0           19.0     5.8   \n",
       "3   Chocolate Sandwich Cookies      61.0           19.0     5.8   \n",
       "6   Chocolate Sandwich Cookies      61.0           19.0     5.8   \n",
       "10  Chocolate Sandwich Cookies      61.0           19.0     5.8   \n",
       "\n",
       "      price_range_loc     busiest_day busiest_period_of_day  \n",
       "0   Mid-range product  Regularly busy           Most orders  \n",
       "2   Mid-range product     Busiest day           Most orders  \n",
       "3   Mid-range product  Regularly busy           Most orders  \n",
       "6   Mid-range product  Regularly busy           Most orders  \n",
       "10  Mid-range product     Busiest day        Average orders  "
      ]
     },
     "execution_count": 212,
     "metadata": {},
     "output_type": "execute_result"
    }
   ],
   "source": [
    "small.head()"
   ]
  },
  {
   "cell_type": "code",
   "execution_count": 214,
   "id": "d0720f01-38f4-4c8f-8078-ad366d331438",
   "metadata": {},
   "outputs": [
    {
     "data": {
      "text/plain": [
       "(9791526, 17)"
      ]
     },
     "execution_count": 214,
     "metadata": {},
     "output_type": "execute_result"
    }
   ],
   "source": [
    "small.shape"
   ]
  },
  {
   "cell_type": "code",
   "execution_count": null,
   "id": "7ced7e01-6c6e-4517-8fa9-930f887718db",
   "metadata": {},
   "outputs": [],
   "source": []
  },
  {
   "cell_type": "code",
   "execution_count": null,
   "id": "219cfd40-c140-4172-a805-d9c6a7fa3558",
   "metadata": {},
   "outputs": [],
   "source": []
  },
  {
   "cell_type": "code",
   "execution_count": 216,
   "id": "0ad65ced-5ecb-425c-b1c5-7cd69138cbe3",
   "metadata": {},
   "outputs": [],
   "source": [
    "# create a dataframe based on the small portion of the dataframe\n",
    "df_2 = small[['order_dow','prices']]"
   ]
  },
  {
   "cell_type": "code",
   "execution_count": 218,
   "id": "e3081e78-1771-4ffd-a6f7-45dbab1caa33",
   "metadata": {},
   "outputs": [
    {
     "data": {
      "text/html": [
       "<div>\n",
       "<style scoped>\n",
       "    .dataframe tbody tr th:only-of-type {\n",
       "        vertical-align: middle;\n",
       "    }\n",
       "\n",
       "    .dataframe tbody tr th {\n",
       "        vertical-align: top;\n",
       "    }\n",
       "\n",
       "    .dataframe thead th {\n",
       "        text-align: right;\n",
       "    }\n",
       "</style>\n",
       "<table border=\"1\" class=\"dataframe\">\n",
       "  <thead>\n",
       "    <tr style=\"text-align: right;\">\n",
       "      <th></th>\n",
       "      <th>order_dow</th>\n",
       "      <th>prices</th>\n",
       "    </tr>\n",
       "  </thead>\n",
       "  <tbody>\n",
       "    <tr>\n",
       "      <th>0</th>\n",
       "      <td>1.0</td>\n",
       "      <td>5.8</td>\n",
       "    </tr>\n",
       "    <tr>\n",
       "      <th>2</th>\n",
       "      <td>0.0</td>\n",
       "      <td>5.8</td>\n",
       "    </tr>\n",
       "    <tr>\n",
       "      <th>3</th>\n",
       "      <td>2.0</td>\n",
       "      <td>5.8</td>\n",
       "    </tr>\n",
       "    <tr>\n",
       "      <th>6</th>\n",
       "      <td>1.0</td>\n",
       "      <td>5.8</td>\n",
       "    </tr>\n",
       "    <tr>\n",
       "      <th>10</th>\n",
       "      <td>0.0</td>\n",
       "      <td>5.8</td>\n",
       "    </tr>\n",
       "  </tbody>\n",
       "</table>\n",
       "</div>"
      ],
      "text/plain": [
       "    order_dow  prices\n",
       "0         1.0     5.8\n",
       "2         0.0     5.8\n",
       "3         2.0     5.8\n",
       "6         1.0     5.8\n",
       "10        0.0     5.8"
      ]
     },
     "execution_count": 218,
     "metadata": {},
     "output_type": "execute_result"
    }
   ],
   "source": [
    "df_2.head()"
   ]
  },
  {
   "cell_type": "code",
   "execution_count": 220,
   "id": "059328e5-ea33-45ae-8bda-2436f23623b3",
   "metadata": {},
   "outputs": [
    {
     "data": {
      "image/png": "[encoded data removed]",
      "text/plain": [
       "<Figure size 640x480 with 1 Axes>"
      ]
     },
     "metadata": {},
     "output_type": "display_data"
    }
   ],
   "source": [
    "line = sns.lineplot(data = df_2, x = 'order_dow', y = 'prices'   )\n",
    "plt.title('Which days of the week do people order most?')\n",
    "plt.show()"
   ]
  },
  {
   "cell_type": "code",
   "execution_count": null,
   "id": "a39d06be-b8de-42e2-a261-febde8a2a557",
   "metadata": {},
   "outputs": [],
   "source": []
  },
  {
   "cell_type": "markdown",
   "id": "fb599dc9-97cf-4df4-81e9-ea115beeb9cf",
   "metadata": {},
   "source": [
    "The peaks on days zero and six mean that most money is spent on Friday and Saturday.\n",
    "-  The translucent blue bands around the line are called error bands, and they represent the chart’s confidence intervals."
   ]
  },
  {
   "cell_type": "code",
   "execution_count": 161,
   "id": "ba567dd5-fe7e-4387-a109-997954025a3f",
   "metadata": {},
   "outputs": [],
   "source": [
    "# plotting the line chart from the entire dataframe to compare with the sampling subset\n",
    "df_4 = ords_prods_merge[['order_dow', 'prices'  ]]"
   ]
  },
  {
   "cell_type": "code",
   "execution_count": 163,
   "id": "b5b9cb4c-428d-4788-824b-bffc11ccaffe",
   "metadata": {},
   "outputs": [
    {
     "data": {
      "image/png": "[encoded data removed]",
      "text/plain": [
       "<Figure size 640x480 with 1 Axes>"
      ]
     },
     "metadata": {},
     "output_type": "display_data"
    }
   ],
   "source": [
    "# line chart using seaborn\n",
    "line_2 = sns.lineplot(data = df_4, x = 'order_dow', y = 'prices' )"
   ]
  },
  {
   "cell_type": "code",
   "execution_count": null,
   "id": "7d6f8040-a65b-47e0-a086-7477f00b181a",
   "metadata": {},
   "outputs": [],
   "source": []
  },
  {
   "cell_type": "code",
   "execution_count": 224,
   "id": "82a6f7dd-4df1-4c4c-a33c-ea73eaec6383",
   "metadata": {},
   "outputs": [
    {
     "data": {
      "text/html": [
       "<div>\n",
       "<style scoped>\n",
       "    .dataframe tbody tr th:only-of-type {\n",
       "        vertical-align: middle;\n",
       "    }\n",
       "\n",
       "    .dataframe tbody tr th {\n",
       "        vertical-align: top;\n",
       "    }\n",
       "\n",
       "    .dataframe thead th {\n",
       "        text-align: right;\n",
       "    }\n",
       "</style>\n",
       "<table border=\"1\" class=\"dataframe\">\n",
       "  <thead>\n",
       "    <tr style=\"text-align: right;\">\n",
       "      <th></th>\n",
       "      <th>order_id</th>\n",
       "      <th>user_id</th>\n",
       "      <th>eval_set</th>\n",
       "      <th>order_number</th>\n",
       "      <th>order_dow</th>\n",
       "      <th>order_hour_of_day</th>\n",
       "      <th>days_since_prior_order</th>\n",
       "      <th>product_id</th>\n",
       "      <th>add_to_cart_order</th>\n",
       "      <th>reordered</th>\n",
       "      <th>product_name</th>\n",
       "      <th>aisle_id</th>\n",
       "      <th>department_id</th>\n",
       "      <th>prices</th>\n",
       "      <th>price_range_loc</th>\n",
       "      <th>busiest_day</th>\n",
       "      <th>busiest_period_of_day</th>\n",
       "    </tr>\n",
       "  </thead>\n",
       "  <tbody>\n",
       "    <tr>\n",
       "      <th>0</th>\n",
       "      <td>1107.0</td>\n",
       "      <td>38259.0</td>\n",
       "      <td>prior</td>\n",
       "      <td>2.0</td>\n",
       "      <td>1.0</td>\n",
       "      <td>11.0</td>\n",
       "      <td>7.0</td>\n",
       "      <td>1.0</td>\n",
       "      <td>7.0</td>\n",
       "      <td>0.0</td>\n",
       "      <td>Chocolate Sandwich Cookies</td>\n",
       "      <td>61.0</td>\n",
       "      <td>19.0</td>\n",
       "      <td>5.8</td>\n",
       "      <td>Mid-range product</td>\n",
       "      <td>Regularly busy</td>\n",
       "      <td>Most orders</td>\n",
       "    </tr>\n",
       "    <tr>\n",
       "      <th>2</th>\n",
       "      <td>7540.0</td>\n",
       "      <td>138499.0</td>\n",
       "      <td>prior</td>\n",
       "      <td>8.0</td>\n",
       "      <td>0.0</td>\n",
       "      <td>14.0</td>\n",
       "      <td>7.0</td>\n",
       "      <td>1.0</td>\n",
       "      <td>4.0</td>\n",
       "      <td>1.0</td>\n",
       "      <td>Chocolate Sandwich Cookies</td>\n",
       "      <td>61.0</td>\n",
       "      <td>19.0</td>\n",
       "      <td>5.8</td>\n",
       "      <td>Mid-range product</td>\n",
       "      <td>Busiest day</td>\n",
       "      <td>Most orders</td>\n",
       "    </tr>\n",
       "    <tr>\n",
       "      <th>3</th>\n",
       "      <td>9228.0</td>\n",
       "      <td>79603.0</td>\n",
       "      <td>prior</td>\n",
       "      <td>2.0</td>\n",
       "      <td>2.0</td>\n",
       "      <td>10.0</td>\n",
       "      <td>30.0</td>\n",
       "      <td>1.0</td>\n",
       "      <td>2.0</td>\n",
       "      <td>0.0</td>\n",
       "      <td>Chocolate Sandwich Cookies</td>\n",
       "      <td>61.0</td>\n",
       "      <td>19.0</td>\n",
       "      <td>5.8</td>\n",
       "      <td>Mid-range product</td>\n",
       "      <td>Regularly busy</td>\n",
       "      <td>Most orders</td>\n",
       "    </tr>\n",
       "    <tr>\n",
       "      <th>6</th>\n",
       "      <td>11140.0</td>\n",
       "      <td>63782.0</td>\n",
       "      <td>prior</td>\n",
       "      <td>4.0</td>\n",
       "      <td>1.0</td>\n",
       "      <td>14.0</td>\n",
       "      <td>14.0</td>\n",
       "      <td>1.0</td>\n",
       "      <td>1.0</td>\n",
       "      <td>1.0</td>\n",
       "      <td>Chocolate Sandwich Cookies</td>\n",
       "      <td>61.0</td>\n",
       "      <td>19.0</td>\n",
       "      <td>5.8</td>\n",
       "      <td>Mid-range product</td>\n",
       "      <td>Regularly busy</td>\n",
       "      <td>Most orders</td>\n",
       "    </tr>\n",
       "    <tr>\n",
       "      <th>10</th>\n",
       "      <td>14668.0</td>\n",
       "      <td>106519.0</td>\n",
       "      <td>prior</td>\n",
       "      <td>18.0</td>\n",
       "      <td>0.0</td>\n",
       "      <td>22.0</td>\n",
       "      <td>7.0</td>\n",
       "      <td>1.0</td>\n",
       "      <td>13.0</td>\n",
       "      <td>1.0</td>\n",
       "      <td>Chocolate Sandwich Cookies</td>\n",
       "      <td>61.0</td>\n",
       "      <td>19.0</td>\n",
       "      <td>5.8</td>\n",
       "      <td>Mid-range product</td>\n",
       "      <td>Busiest day</td>\n",
       "      <td>Average orders</td>\n",
       "    </tr>\n",
       "  </tbody>\n",
       "</table>\n",
       "</div>"
      ],
      "text/plain": [
       "    order_id   user_id eval_set  order_number  order_dow  order_hour_of_day  \\\n",
       "0     1107.0   38259.0    prior           2.0        1.0               11.0   \n",
       "2     7540.0  138499.0    prior           8.0        0.0               14.0   \n",
       "3     9228.0   79603.0    prior           2.0        2.0               10.0   \n",
       "6    11140.0   63782.0    prior           4.0        1.0               14.0   \n",
       "10   14668.0  106519.0    prior          18.0        0.0               22.0   \n",
       "\n",
       "    days_since_prior_order  product_id  add_to_cart_order  reordered  \\\n",
       "0                      7.0         1.0                7.0        0.0   \n",
       "2                      7.0         1.0                4.0        1.0   \n",
       "3                     30.0         1.0                2.0        0.0   \n",
       "6                     14.0         1.0                1.0        1.0   \n",
       "10                     7.0         1.0               13.0        1.0   \n",
       "\n",
       "                  product_name  aisle_id  department_id  prices  \\\n",
       "0   Chocolate Sandwich Cookies      61.0           19.0     5.8   \n",
       "2   Chocolate Sandwich Cookies      61.0           19.0     5.8   \n",
       "3   Chocolate Sandwich Cookies      61.0           19.0     5.8   \n",
       "6   Chocolate Sandwich Cookies      61.0           19.0     5.8   \n",
       "10  Chocolate Sandwich Cookies      61.0           19.0     5.8   \n",
       "\n",
       "      price_range_loc     busiest_day busiest_period_of_day  \n",
       "0   Mid-range product  Regularly busy           Most orders  \n",
       "2   Mid-range product     Busiest day           Most orders  \n",
       "3   Mid-range product  Regularly busy           Most orders  \n",
       "6   Mid-range product  Regularly busy           Most orders  \n",
       "10  Mid-range product     Busiest day        Average orders  "
      ]
     },
     "execution_count": 224,
     "metadata": {},
     "output_type": "execute_result"
    }
   ],
   "source": [
    "small.head()"
   ]
  },
  {
   "cell_type": "code",
   "execution_count": null,
   "id": "9478ad23-6fda-485a-a2cb-dab52f9a0734",
   "metadata": {},
   "outputs": [],
   "source": []
  },
  {
   "cell_type": "code",
   "execution_count": null,
   "id": "88659d85-4f57-4b7e-9d0d-880fcfe5ca83",
   "metadata": {},
   "outputs": [],
   "source": []
  },
  {
   "cell_type": "code",
   "execution_count": null,
   "id": "55f831ab-5879-4246-b71c-72d6aed4e2f2",
   "metadata": {},
   "outputs": [],
   "source": []
  },
  {
   "cell_type": "code",
   "execution_count": null,
   "id": "b8937652-820b-45d2-8671-1ff647614cc9",
   "metadata": {},
   "outputs": [],
   "source": []
  }
 ],
 "metadata": {
  "kernelspec": {
   "display_name": "Python 3 (ipykernel)",
   "language": "python",
   "name": "python3"
  },
  "language_info": {
   "codemirror_mode": {
    "name": "ipython",
    "version": 3
   },
   "file_extension": ".py",
   "mimetype": "text/x-python",
   "name": "python",
   "nbconvert_exporter": "python",
   "pygments_lexer": "ipython3",
   "version": "3.12.7"
  }
 },
 "nbformat": 4,
 "nbformat_minor": 5
}
