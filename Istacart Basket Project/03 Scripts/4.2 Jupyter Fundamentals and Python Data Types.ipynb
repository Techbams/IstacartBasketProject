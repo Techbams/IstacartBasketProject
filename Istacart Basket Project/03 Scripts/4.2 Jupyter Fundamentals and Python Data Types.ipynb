{
 "cells": [
  {
   "cell_type": "markdown",
   "id": "53d8392e-2e82-4858-849c-1be58bad4479",
   "metadata": {
    "jp-MarkdownHeadingCollapsed": true
   },
   "source": [
    "# Ayinde Data Analytics Python Portfolio\n",
    "- This shows data wrangling and presentation of analysis using pandas and numpy"
   ]
  },
  {
   "cell_type": "code",
   "execution_count": null,
   "id": "bbf68a41-cc00-49aa-9970-f323998a4584",
   "metadata": {},
   "outputs": [],
   "source": []
  },
  {
   "cell_type": "code",
   "execution_count": null,
   "id": "2e4b5a83-5db3-4162-9255-92c521d4a05a",
   "metadata": {},
   "outputs": [],
   "source": []
  },
  {
   "cell_type": "markdown",
   "id": "824b9d36-69c3-4965-8951-18619eb4e216",
   "metadata": {},
   "source": [
    "## 01. Importing Libraries\n",
    "- This is to import necessay libraries for data analysis\n",
    "- Some of the libraries will be: \n",
    "- Pandas, Numpy, Matplotlib, os"
   ]
  },
  {
   "cell_type": "code",
   "execution_count": 29,
   "id": "972989e6-cfaa-4e5d-a919-ceeac15fcd11",
   "metadata": {},
   "outputs": [],
   "source": [
    "# Import libraries\n",
    "import pandas as pd\n",
    "import numpy as np\n",
    "import os"
   ]
  },
  {
   "cell_type": "code",
   "execution_count": null,
   "id": "3b72ef7e-f371-4d7b-9c6a-eb7c67b8efe4",
   "metadata": {},
   "outputs": [],
   "source": []
  },
  {
   "cell_type": "code",
   "execution_count": 3,
   "id": "5c46d0e5-75d1-4eaa-a2f6-ea192873a771",
   "metadata": {},
   "outputs": [],
   "source": [
    "# import Keras - You cannot import a library that has not been installed"
   ]
  },
  {
   "cell_type": "code",
   "execution_count": null,
   "id": "42fa1478-b298-4ef8-a802-0b4e8ddfb635",
   "metadata": {},
   "outputs": [],
   "source": []
  },
  {
   "cell_type": "markdown",
   "id": "4d20e1ce-fb12-4f12-936e-bca7b7f5edc1",
   "metadata": {},
   "source": [
    "## 02. Data Types in python"
   ]
  },
  {
   "cell_type": "markdown",
   "id": "b41c373b-cdf3-46d5-9f2d-1992991dd01a",
   "metadata": {},
   "source": [
    "- Integer = 20, 55, 39\n",
    "- Floating-Point NUmber = 1.34, 4.5738, 10.7, etc\n",
    "- String =  Any text value\n",
    "- Boolean = True or False"
   ]
  },
  {
   "cell_type": "code",
   "execution_count": null,
   "id": "c958bf3a-e13d-4239-a7fd-c572f5592a6a",
   "metadata": {},
   "outputs": [],
   "source": []
  },
  {
   "cell_type": "markdown",
   "id": "9d9e9f64-45df-4206-a7de-0b19174a78b1",
   "metadata": {},
   "source": [
    "## 2A. Data type - Integer"
   ]
  },
  {
   "cell_type": "code",
   "execution_count": 7,
   "id": "150665d9-1780-4e1b-ada0-c1d9206e2075",
   "metadata": {},
   "outputs": [],
   "source": [
    "bams = 2"
   ]
  },
  {
   "cell_type": "code",
   "execution_count": 8,
   "id": "a59ec30a-a906-475c-a920-fa9932ca8e1b",
   "metadata": {},
   "outputs": [
    {
     "data": {
      "text/plain": [
       "2"
      ]
     },
     "execution_count": 8,
     "metadata": {},
     "output_type": "execute_result"
    }
   ],
   "source": [
    "bams"
   ]
  },
  {
   "cell_type": "code",
   "execution_count": 9,
   "id": "5a8834c8-c2b9-41d0-9ec2-036e5cab7031",
   "metadata": {},
   "outputs": [
    {
     "name": "stdout",
     "output_type": "stream",
     "text": [
      "2\n"
     ]
    }
   ],
   "source": [
    "print(bams)"
   ]
  },
  {
   "cell_type": "code",
   "execution_count": 10,
   "id": "b15f730d-41a0-4cc9-8631-c944c28af6d1",
   "metadata": {},
   "outputs": [
    {
     "data": {
      "text/plain": [
       "int"
      ]
     },
     "execution_count": 10,
     "metadata": {},
     "output_type": "execute_result"
    }
   ],
   "source": [
    "type(bams)"
   ]
  },
  {
   "cell_type": "code",
   "execution_count": null,
   "id": "7b4ba3f7-98ca-4c2d-aa63-dc70d22f11a0",
   "metadata": {},
   "outputs": [],
   "source": []
  },
  {
   "cell_type": "markdown",
   "id": "28b8c96b-69ea-43e4-97e5-57bc65a5470d",
   "metadata": {},
   "source": [
    "## 2B. Data type - ating-Point NUmber"
   ]
  },
  {
   "cell_type": "code",
   "execution_count": 12,
   "id": "4a5f9e02-d6d8-480d-80d7-c74a4f6875bd",
   "metadata": {},
   "outputs": [],
   "source": [
    "y = 4.864"
   ]
  },
  {
   "cell_type": "code",
   "execution_count": 13,
   "id": "827d2f31-bfc4-420a-965b-c9ffbdc52074",
   "metadata": {},
   "outputs": [
    {
     "data": {
      "text/plain": [
       "float"
      ]
     },
     "execution_count": 13,
     "metadata": {},
     "output_type": "execute_result"
    }
   ],
   "source": [
    "type(y)"
   ]
  },
  {
   "cell_type": "code",
   "execution_count": null,
   "id": "d7321a7c-5c23-44bb-a0c4-7ec0f5d225b7",
   "metadata": {},
   "outputs": [],
   "source": []
  },
  {
   "cell_type": "markdown",
   "id": "33b2767d-5556-4e72-9ede-9179acf2a52e",
   "metadata": {},
   "source": [
    "## 2C. Data type - String"
   ]
  },
  {
   "cell_type": "code",
   "execution_count": 15,
   "id": "4e5f8837-be0c-4cce-84e5-9015d15dba0f",
   "metadata": {},
   "outputs": [],
   "source": [
    "z = 'Nigeria'"
   ]
  },
  {
   "cell_type": "code",
   "execution_count": 16,
   "id": "fdefa1fa-e5fb-46e3-8c1a-9f56c49bdf87",
   "metadata": {},
   "outputs": [
    {
     "data": {
      "text/plain": [
       "str"
      ]
     },
     "execution_count": 16,
     "metadata": {},
     "output_type": "execute_result"
    }
   ],
   "source": [
    "type(z)"
   ]
  },
  {
   "cell_type": "code",
   "execution_count": 17,
   "id": "458860ef-4dac-4576-9efe-e0074609e2a6",
   "metadata": {},
   "outputs": [
    {
     "ename": "NameError",
     "evalue": "name 'Lagos' is not defined",
     "output_type": "error",
     "traceback": [
      "\u001b[1;31m---------------------------------------------------------------------------\u001b[0m",
      "\u001b[1;31mNameError\u001b[0m                                 Traceback (most recent call last)",
      "Cell \u001b[1;32mIn[17], line 2\u001b[0m\n\u001b[0;32m      1\u001b[0m \u001b[38;5;66;03m# this needs to be defined\u001b[39;00m\n\u001b[1;32m----> 2\u001b[0m \u001b[38;5;28mtype\u001b[39m(Lagos)\n",
      "\u001b[1;31mNameError\u001b[0m: name 'Lagos' is not defined"
     ]
    }
   ],
   "source": [
    "# this needs to be defined\n",
    "type(Lagos)"
   ]
  },
  {
   "cell_type": "code",
   "execution_count": null,
   "id": "180749c0-5707-4be8-a63b-a8093720df27",
   "metadata": {},
   "outputs": [],
   "source": [
    "type('Lagos')"
   ]
  },
  {
   "cell_type": "code",
   "execution_count": null,
   "id": "fdad0b07-a2a2-47fb-8e37-7b7b338c6ae6",
   "metadata": {},
   "outputs": [],
   "source": []
  },
  {
   "cell_type": "markdown",
   "id": "a0fd0777-d792-4607-af66-e9acae486ea6",
   "metadata": {},
   "source": [
    "## 2D. Data type - Boolean"
   ]
  },
  {
   "cell_type": "code",
   "execution_count": null,
   "id": "c7a111ac-8044-4c5e-bc9a-ee5ae01f4b23",
   "metadata": {},
   "outputs": [],
   "source": [
    "type(True)"
   ]
  },
  {
   "cell_type": "code",
   "execution_count": null,
   "id": "dce8cc37-465d-4c83-a2c6-02673e7d30bf",
   "metadata": {},
   "outputs": [],
   "source": [
    "type(False)"
   ]
  },
  {
   "cell_type": "code",
   "execution_count": null,
   "id": "9437ac62-3fb3-48e3-a053-69bad86b6cd5",
   "metadata": {},
   "outputs": [],
   "source": [
    "type('false')"
   ]
  },
  {
   "cell_type": "code",
   "execution_count": null,
   "id": "46a1227e-9fe2-4c0e-9ca1-dd9b87c8d8c4",
   "metadata": {},
   "outputs": [],
   "source": []
  },
  {
   "cell_type": "markdown",
   "id": "f9681159-28c2-4b3c-adef-acbe386ce991",
   "metadata": {},
   "source": [
    "## 03. Procedures with Data Types in python"
   ]
  },
  {
   "cell_type": "code",
   "execution_count": null,
   "id": "69ba80d8-2c1a-42f8-a513-9171f2cd9f65",
   "metadata": {},
   "outputs": [],
   "source": [
    "x = 2"
   ]
  },
  {
   "cell_type": "code",
   "execution_count": null,
   "id": "7dfeb12e-f446-4bc3-8782-a3a1ab03c1c1",
   "metadata": {},
   "outputs": [],
   "source": [
    "print(x)"
   ]
  },
  {
   "cell_type": "code",
   "execution_count": null,
   "id": "8fae6697-0879-4f30-9234-82af798d20fa",
   "metadata": {},
   "outputs": [],
   "source": []
  },
  {
   "cell_type": "code",
   "execution_count": null,
   "id": "78a497e4-5e76-46df-9b11-597506301fda",
   "metadata": {},
   "outputs": [],
   "source": [
    "x + 8"
   ]
  },
  {
   "cell_type": "code",
   "execution_count": null,
   "id": "11b1863d-4094-49d6-a7d2-ab2724795be6",
   "metadata": {},
   "outputs": [],
   "source": []
  },
  {
   "cell_type": "code",
   "execution_count": null,
   "id": "9c77ef83-ba9c-4113-b6af-2cfcd57301ed",
   "metadata": {},
   "outputs": [],
   "source": [
    "x + y"
   ]
  },
  {
   "cell_type": "code",
   "execution_count": null,
   "id": "2148d447-4416-40a2-99c5-78ef693d5ac2",
   "metadata": {},
   "outputs": [],
   "source": [
    "print (x)"
   ]
  },
  {
   "cell_type": "code",
   "execution_count": null,
   "id": "b1be8ffb-dc20-4b0e-a3ff-e5014fa7101b",
   "metadata": {},
   "outputs": [],
   "source": []
  },
  {
   "cell_type": "code",
   "execution_count": null,
   "id": "156ab620-b6c0-43e1-8147-272819c4aa2a",
   "metadata": {},
   "outputs": [],
   "source": [
    "x = x + 5"
   ]
  },
  {
   "cell_type": "code",
   "execution_count": null,
   "id": "527fac5b-ea80-4369-afaa-6b11d5dbc22c",
   "metadata": {},
   "outputs": [],
   "source": [
    "print(x)"
   ]
  },
  {
   "cell_type": "code",
   "execution_count": null,
   "id": "b6796519-41e3-4b53-961d-65f05205436b",
   "metadata": {},
   "outputs": [],
   "source": [
    "# String"
   ]
  },
  {
   "cell_type": "code",
   "execution_count": null,
   "id": "8a16fdbe-6708-4a49-8591-b0a2eaa1981d",
   "metadata": {},
   "outputs": [],
   "source": [
    "a = 'Hello,  '"
   ]
  },
  {
   "cell_type": "code",
   "execution_count": null,
   "id": "5478f775-fca2-4b5b-aaea-f5028532e7db",
   "metadata": {},
   "outputs": [],
   "source": [
    "b = 'Esther!'"
   ]
  },
  {
   "cell_type": "code",
   "execution_count": null,
   "id": "7be0e37b-7132-461f-8885-a0651d5f4c62",
   "metadata": {},
   "outputs": [],
   "source": [
    "a + b"
   ]
  },
  {
   "cell_type": "code",
   "execution_count": null,
   "id": "34d2d7da-c70f-440a-b7c3-f959767573c6",
   "metadata": {},
   "outputs": [],
   "source": [
    "'Football' - 'ball'"
   ]
  },
  {
   "cell_type": "code",
   "execution_count": null,
   "id": "b44f27a1-cf8d-496b-94ea-ce19e692c071",
   "metadata": {},
   "outputs": [],
   "source": []
  },
  {
   "cell_type": "code",
   "execution_count": null,
   "id": "e2601ffe-a779-41e1-91f9-af4dbfa47f40",
   "metadata": {},
   "outputs": [],
   "source": [
    "n = 'potato'"
   ]
  },
  {
   "cell_type": "code",
   "execution_count": null,
   "id": "fded25bb-081a-4244-b4c9-ad7a5b3b995c",
   "metadata": {},
   "outputs": [],
   "source": [
    "n * 12"
   ]
  },
  {
   "cell_type": "code",
   "execution_count": null,
   "id": "bf4fdb68-453e-4982-9430-0ada259fc410",
   "metadata": {},
   "outputs": [],
   "source": []
  },
  {
   "cell_type": "code",
   "execution_count": null,
   "id": "68082428-1f75-4c44-b8b1-10a3d2be7892",
   "metadata": {},
   "outputs": [],
   "source": [
    "# Booleans"
   ]
  },
  {
   "cell_type": "code",
   "execution_count": null,
   "id": "1593ebbc-4212-4d31-b75e-4452c6065190",
   "metadata": {},
   "outputs": [],
   "source": [
    "x == y"
   ]
  },
  {
   "cell_type": "code",
   "execution_count": null,
   "id": "1e04056d-67f0-421c-9629-133ff4851492",
   "metadata": {},
   "outputs": [],
   "source": [
    "type(x==y)"
   ]
  },
  {
   "cell_type": "code",
   "execution_count": null,
   "id": "67569770-b930-4003-8035-35247d9f1cd6",
   "metadata": {},
   "outputs": [],
   "source": [
    "x"
   ]
  },
  {
   "cell_type": "code",
   "execution_count": null,
   "id": "880e981e-0598-40ca-8c4d-4ffcc424e809",
   "metadata": {},
   "outputs": [],
   "source": [
    "y "
   ]
  },
  {
   "cell_type": "code",
   "execution_count": null,
   "id": "edb040a8-bbdd-4e54-b8bd-78eb063805d3",
   "metadata": {},
   "outputs": [],
   "source": [
    "x = y"
   ]
  },
  {
   "cell_type": "code",
   "execution_count": null,
   "id": "951a8e8e-61c1-493d-96d4-fd7b0e3cfd02",
   "metadata": {},
   "outputs": [],
   "source": [
    "x"
   ]
  },
  {
   "cell_type": "code",
   "execution_count": null,
   "id": "2ae88b38-41d7-4794-962e-eaa43069aecc",
   "metadata": {},
   "outputs": [],
   "source": []
  },
  {
   "cell_type": "code",
   "execution_count": null,
   "id": "68eea96e-2eb5-4f9a-bc83-8a1ccb114df2",
   "metadata": {},
   "outputs": [],
   "source": []
  }
 ],
 "metadata": {
  "kernelspec": {
   "display_name": "Python 3 (ipykernel)",
   "language": "python",
   "name": "python3"
  },
  "language_info": {
   "codemirror_mode": {
    "name": "ipython",
    "version": 3
   },
   "file_extension": ".py",
   "mimetype": "text/x-python",
   "name": "python",
   "nbconvert_exporter": "python",
   "pygments_lexer": "ipython3",
   "version": "3.12.7"
  }
 },
 "nbformat": 4,
 "nbformat_minor": 5
}
